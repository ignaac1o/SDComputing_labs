{
  "cells": [
    {
      "cell_type": "markdown",
      "metadata": {},
      "source": [
        "# Study 1"
      ]
    },
    {
      "cell_type": "markdown",
      "metadata": {},
      "source": [
        "We create a Spark session. We select 7 cores for execute the codesnippet in parallel."
      ]
    },
    {
      "cell_type": "code",
      "execution_count": 10,
      "metadata": {},
      "outputs": [],
      "source": [
        " spark = SparkSession.builder\\\n",
        "      .master(\"local[7]\")\\\n",
        "      .appName(\"Study2\")\\\n",
        "      .getOrCreate()"
      ]
    },
    {
      "cell_type": "markdown",
      "metadata": {},
      "source": [
        "We start to measure the time. Then, we first transform the variable *tpep_pickup_datetime* into *datetime* format. Then, we extract the hour and create a new column. Finally this new variable is transformed into categorical with 4 levels. "
      ]
    },
    {
      "cell_type": "code",
      "execution_count": null,
      "metadata": {},
      "outputs": [],
      "source": [
        "start = time.time()\n",
        "data_spark = spark.read.option(\"header\",\"true\").csv(\"DATA/*.csv\")\n",
        "print((data_spark.count(), len(data_spark.columns)))\n",
        "\n",
        "\n",
        "data_sp = data_spark.withColumn(\"tpep_pickup_timestap\",to_timestamp(\"tpep_pickup_datetime\")) \n",
        "data_sp = data_sp.withColumn(\"tpep_pickup_hour\", hour(to_timestamp(\"tpep_pickup_timestap\",\"yyyy-MM-dd HH:mm:ss\")))\n",
        "data_sp = data_sp.withColumn(\"tpep_pickup_timezone\", when((col(\"tpep_pickup_hour\") >= 0) & (col(\"tpep_pickup_hour\") < 6),\"N\")\n",
        "                                 .when((col(\"tpep_pickup_hour\") >= 6) & (col(\"tpep_pickup_hour\") < 12),\"M\")\n",
        "                                 .when((col(\"tpep_pickup_hour\") >= 12) & (col(\"tpep_pickup_hour\") < 18),\"A\")\n",
        "                                 .when((col(\"tpep_pickup_hour\") >= 18) & (col(\"tpep_pickup_hour\") <= 24),\"E\")\n",
        "                                 .when(col(\"tpep_pickup_hour\").isNull() ,\"\"))\n",
        "                            \n",
        "data_sp.groupBy('tpep_pickup_timezone').count().show()\n",
        "data_sp = data_sp.withColumn(\"tpep_pickup_timezone\", data_sp[\"tpep_pickup_timezone\"].cast(IntegerType()))\n",
        "spark.stop()\n",
        "end = time.time()\n",
        "print(\"Time elapsed:\", end-start, \"seconds\")"
      ]
    }
  ],
  "metadata": {
    "colab": {
      "collapsed_sections": [],
      "name": "Study2.ipynb",
      "provenance": []
    },
    "kernelspec": {
      "display_name": "Python 3",
      "name": "python3"
    },
    "language_info": {
      "codemirror_mode": {
        "name": "ipython",
        "version": 3
      },
      "file_extension": ".py",
      "mimetype": "text/x-python",
      "name": "python",
      "nbconvert_exporter": "python",
      "pygments_lexer": "ipython3",
      "version": "3.10.2"
    }
  },
  "nbformat": 4,
  "nbformat_minor": 0
}
