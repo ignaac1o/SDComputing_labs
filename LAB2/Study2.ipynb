{
  "nbformat": 4,
  "nbformat_minor": 0,
  "metadata": {
    "colab": {
      "name": "Study2.ipynb",
      "provenance": [],
      "collapsed_sections": []
    },
    "kernelspec": {
      "name": "python3",
      "display_name": "Python 3"
    },
    "language_info": {
      "name": "python"
    }
  },
  "cells": [
    {
      "cell_type": "code",
      "execution_count": 1,
      "metadata": {
        "colab": {
          "base_uri": "https://localhost:8080/"
        },
        "id": "7UuKnoLmH-9_",
        "outputId": "4db468d9-008d-4020-cc51-286a11659a36"
      },
      "outputs": [
        {
          "output_type": "stream",
          "name": "stdout",
          "text": [
            "N    102841\n",
            "E     98568\n",
            "A     82910\n",
            "M     37000\n",
            "Name: tpep_pickup_hour_slots, dtype: int64\n"
          ]
        }
      ],
      "source": [
        "import pandas as pd\n",
        "import numpy as np\n",
        "\n",
        "data = pd.read_csv(\"tripdata_2017-01.csv\")\n",
        "data['tpep_pickup_datetime'] = data['tpep_pickup_datetime'].astype('datetime64[ns]') \n",
        "data['tpep_pickup_hour'] = data.tpep_pickup_datetime.dt.hour\n",
        "data['tpep_pickup_hour'].unique()\n",
        "col         = 'tpep_pickup_hour'\n",
        "conditions  = [ (data[col] >= 0) & (data[col] < 6), \n",
        "                (data[col]>= 6) & (data[col] < 12), \n",
        "               (data[col]>= 12) & (data[col] < 18),\n",
        "               (data[col]>= 18) & (data[col] <= 24) \n",
        "  ]\n",
        "choices     = [ 'N', 'M', 'A','E']\n",
        "    \n",
        "data[\"tpep_pickup_hour_slots\"] = np.select(conditions, choices, default=np.nan)\n",
        "data['tpep_pickup_hour_slots'].unique()\n",
        "print(data['tpep_pickup_hour_slots'].value_counts())"
      ]
    },
    {
      "cell_type": "code",
      "source": [
        "!pip install pyspark\n",
        "from pyspark import SparkContext\n",
        "from pyspark.sql import SparkSession\n",
        "from pyspark.sql.functions import *\n",
        "from pyspark.sql.functions import when, col\n",
        "\n",
        "spark = SparkSession.builder.getOrCreate()\n",
        "data_sp = spark.read.csv('tripdata_2017-01.csv', header = True)\n",
        "#data_sp.printSchema()\n",
        "data_sp = data_sp.withColumn(\"tpep_pickup_timestap\",to_timestamp(\"tpep_pickup_datetime\")) \n",
        "data_sp = data_sp.withColumn(\"hour\", hour(to_timestamp(\"tpep_pickup_timestap\",\"yyyy-MM-dd HH:mm:ss\")))\n",
        "data_sp = data_sp.withColumn(\"slots_hour\", when((col(\"hour\") >= 0) & (col(\"hour\") < 6),\"N\")\n",
        "                                 .when((col(\"hour\") >= 6) & (col(\"hour\") < 12),\"M\")\n",
        "                                 .when((col(\"hour\") >= 12) & (col(\"hour\") < 18),\"A\")\n",
        "                                 .when((col(\"hour\") >= 18) & (col(\"hour\") <= 24),\"E\")\n",
        "                                 .when(col(\"hour\").isNull() ,\"\"))\n",
        "data_sp.groupBy('slots_hour').count().show()"
      ],
      "metadata": {
        "colab": {
          "base_uri": "https://localhost:8080/"
        },
        "id": "e7NYs3Q5gxLL",
        "outputId": "4da1ed85-1d12-472e-f81a-6ff0a7c74667"
      },
      "execution_count": null,
      "outputs": [
        {
          "output_type": "stream",
          "name": "stdout",
          "text": [
            "Collecting pyspark\n",
            "  Downloading pyspark-3.2.1.tar.gz (281.4 MB)\n",
            "\u001b[K     |█████████████▊                  | 121.0 MB 1.4 MB/s eta 0:01:56"
          ]
        }
      ]
    },
    {
      "cell_type": "code",
      "source": [
        ""
      ],
      "metadata": {
        "id": "SHVzckrEIL3F"
      },
      "execution_count": null,
      "outputs": []
    }
  ]
}