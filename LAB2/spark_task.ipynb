{
 "cells": [
  {
   "cell_type": "markdown",
   "metadata": {},
   "source": [
    "SOLO AÑADIR COSAS DEBAJO DEL CHUNK DE CADA NOMBRE"
   ]
  },
  {
   "cell_type": "markdown",
   "metadata": {},
   "source": [
    "ESTA PARTE ES PARA JAVIER"
   ]
  },
  {
   "cell_type": "code",
   "execution_count": null,
   "metadata": {},
   "outputs": [],
   "source": []
  },
  {
   "cell_type": "markdown",
   "metadata": {},
   "source": [
    "ESTA PARTE ES PARA ALMODOVAR"
   ]
  },
  {
   "cell_type": "code",
   "execution_count": null,
   "metadata": {},
   "outputs": [],
   "source": []
  },
  {
   "cell_type": "markdown",
   "metadata": {},
   "source": [
    "ESTA PARTE ES PARA ALBERTO"
   ]
  },
  {
   "cell_type": "code",
   "execution_count": 45,
   "metadata": {},
   "outputs": [
    {
     "name": "stdout",
     "output_type": "stream",
     "text": [
      "Index(['VendorID', 'tpep_pickup_datetime', 'tpep_dropoff_datetime',\n",
      "       'passenger_count', 'trip_distance', 'RatecodeID', 'store_and_fwd_flag',\n",
      "       'PULocationID', 'DOLocationID', 'payment_type', 'fare_amount', 'extra',\n",
      "       'mta_tax', 'tip_amount', 'tolls_amount', 'improvement_surcharge',\n",
      "       'total_amount'],\n",
      "      dtype='object')\n",
      "15.577018712603214 No taxes mean\n",
      "16.078110822888735 Total amount mean\n",
      "0.4972142408420099\n"
     ]
    }
   ],
   "source": [
    "# 2 - Average total price per trip including tips\n",
    "\n",
    "import pandas as pd\n",
    "data=pd.read_csv(\"C:/Users/Alberto/Desktop/Máster UC3M/3rd quarter/Computación Escalada/SDComputing_labs/LAB2/tripdata_2017-01.csv\",header=0)\n",
    "print (data.columns)\n",
    "\n",
    "#We select the columns corresponding to the fare, tip, tolls and extra amount and the improvement surcharge, excluding the taxes.\n",
    "\n",
    "no_taxes = data['fare_amount'] + data['tip_amount'] + data['tolls_amount'] + data['extra'] + data['improvement_surcharge']\n",
    "\n",
    "#Now, we compute the mean of this quantity. \n",
    "meanprice=no_taxes.mean()\n",
    "print (meanprice, 'No taxes mean')\n",
    "\n",
    "#Let's compare this mean value to the mean of the total amount given to the driver.\n",
    "\n",
    "total = data['total_amount']\n",
    "total_mean = total.mean()\n",
    "print (total_mean, 'Total amount mean')\n",
    "\n",
    "#We can see that there is a difference of close to 0.5$ between these amounts, meaning that the fraction of the total amount spent in taxes\n",
    "#is close to 0.5$ for every trip. Let's check this fact: \n",
    "print(data['mta_tax'].mean())\n"
   ]
  },
  {
   "cell_type": "code",
   "execution_count": 35,
   "metadata": {},
   "outputs": [],
   "source": [
    "#Now, let's implement the previous computations with pyspark. \n",
    "from pyspark.sql import SparkSession\n",
    "spark = SparkSession.builder.appName(\"prueba\").master(\"local[*]\").getOrCreate()\n",
    "\n",
    "rdd = spark.sparkContext.parallelize(snd_analysis)"
   ]
  },
  {
   "cell_type": "code",
   "execution_count": null,
   "metadata": {},
   "outputs": [],
   "source": []
  }
 ],
 "metadata": {
  "interpreter": {
   "hash": "348d93889cdc789e6cbe038b88f22de38d4107789a7ffcd22b7fa3c799b7a993"
  },
  "kernelspec": {
   "display_name": "Python 3.9.7 ('base')",
   "language": "python",
   "name": "python3"
  },
  "language_info": {
   "codemirror_mode": {
    "name": "ipython",
    "version": 3
   },
   "file_extension": ".py",
   "mimetype": "text/x-python",
   "name": "python",
   "nbconvert_exporter": "python",
   "pygments_lexer": "ipython3",
   "version": "3.9.7"
  },
  "orig_nbformat": 4
 },
 "nbformat": 4,
 "nbformat_minor": 2
}
