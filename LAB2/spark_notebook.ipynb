{
 "cells": [
  {
   "cell_type": "code",
   "execution_count": 2,
   "metadata": {},
   "outputs": [],
   "source": [
    "from pyspark.sql import SparkSession\n",
    "from pyspark.sql.functions import *\n",
    "import matplotlib.pyplot as plt\n",
    "import seaborn as sns\n",
    "import numpy as np\n",
    "import time as time"
   ]
  },
  {
   "cell_type": "markdown",
   "metadata": {},
   "source": [
    "# 1 - Number  of picked up travels per time zone\n",
    "\n",
    "We create a Spark session. We select 7 cores for execute the codesnippet in parallel."
   ]
  },
  {
   "cell_type": "code",
   "execution_count": 3,
   "metadata": {},
   "outputs": [],
   "source": [
    "spark = SparkSession.builder\\\n",
    "      .master(\"local[7]\")\\\n",
    "      .appName(\"Study2\")\\\n",
    "      .getOrCreate()"
   ]
  },
  {
   "cell_type": "markdown",
   "metadata": {},
   "source": [
    "First of all we have to get the data. In contrast with what we did on the serial version, now we use a moethod from spark to get both datasets directly into 1 object. Using spark we are direcly creating an RDD object. We will also start a count to measure the time. "
   ]
  },
  {
   "cell_type": "code",
   "execution_count": 4,
   "metadata": {},
   "outputs": [],
   "source": [
    "start = time.time()\n",
    "spark_dataset = spark.read.option(\"header\",\"true\").option(\"inferSchema\",\"true\").csv(\"DATA/*.csv\")"
   ]
  },
  {
   "cell_type": "markdown",
   "metadata": {},
   "source": [
    "Then, we will transform the variable *tpep_pickup_datetime* into *datetime* format. Once we have that, we extract the hour and create a new column. Finally this new variable is transformed into categorical with 4 levels. "
   ]
  },
  {
   "cell_type": "code",
   "execution_count": 5,
   "metadata": {},
   "outputs": [
    {
     "name": "stdout",
     "output_type": "stream",
     "text": [
      "+--------------------+------+\n",
      "|tpep_pickup_timezone| count|\n",
      "+--------------------+------+\n",
      "|                   E|631164|\n",
      "|                   M|473142|\n",
      "|                   A|566760|\n",
      "|                   N|271354|\n",
      "+--------------------+------+\n",
      "\n"
     ]
    }
   ],
   "source": [
    "data_sp = spark_dataset.withColumn(\"tpep_pickup_timestap\",to_timestamp(\"tpep_pickup_datetime\")) \n",
    "data_sp = data_sp.withColumn(\"tpep_pickup_hour\", hour(to_timestamp(\"tpep_pickup_timestap\",\"yyyy-MM-dd HH:mm:ss\")))\n",
    "data_sp = data_sp.withColumn(\"tpep_pickup_timezone\", when((col(\"tpep_pickup_hour\") >= 0) & (col(\"tpep_pickup_hour\") < 6),\"N\")\n",
    "                                 .when((col(\"tpep_pickup_hour\") >= 6) & (col(\"tpep_pickup_hour\") < 12),\"M\")\n",
    "                                 .when((col(\"tpep_pickup_hour\") >= 12) & (col(\"tpep_pickup_hour\") < 18),\"A\")\n",
    "                                 .when((col(\"tpep_pickup_hour\") >= 18) & (col(\"tpep_pickup_hour\") <= 24),\"E\")\n",
    "                                 .when(col(\"tpep_pickup_hour\").isNull() ,\"\"))\n",
    "                            \n",
    "data_sp.groupBy('tpep_pickup_timezone').count().show()"
   ]
  },
  {
   "cell_type": "markdown",
   "metadata": {},
   "source": [
    "# 2 -  Average total price per trip excluding taxes\n",
    "\n",
    "We select the columns corresponding to the amount of money excluding the taxes. "
   ]
  },
  {
   "cell_type": "code",
   "execution_count": 12,
   "metadata": {},
   "outputs": [],
   "source": [
    "no_taxes_rdd = spark_dataset.select(['fare_amount', 'tip_amount', 'tolls_amount', 'extra', 'improvement_surcharge'])"
   ]
  },
  {
   "cell_type": "markdown",
   "metadata": {},
   "source": [
    "Since we want to compute the mean value, we need to compute the sum of all the elements of the object, the count of these elements and divide them. Let's start by computing and printing the number of observations present in the rdd object."
   ]
  },
  {
   "cell_type": "code",
   "execution_count": 17,
   "metadata": {},
   "outputs": [
    {
     "name": "stdout",
     "output_type": "stream",
     "text": [
      "1942420\n"
     ]
    }
   ],
   "source": [
    "count = no_taxes_rdd.count()\n",
    "print(count)"
   ]
  },
  {
   "cell_type": "markdown",
   "metadata": {},
   "source": [
    "Secondly, we sum the elements of the rdd thanks to the function .reduce(), which allows us to make computations between the elements of the rdd object. "
   ]
  },
  {
   "cell_type": "code",
   "execution_count": 14,
   "metadata": {},
   "outputs": [
    {
     "ename": "AttributeError",
     "evalue": "'DataFrame' object has no attribute 'reduce'",
     "output_type": "error",
     "traceback": [
      "\u001b[0;31m---------------------------------------------------------------------------\u001b[0m",
      "\u001b[0;31mAttributeError\u001b[0m                            Traceback (most recent call last)",
      "\u001b[0;32m<ipython-input-14-cf168e3dce29>\u001b[0m in \u001b[0;36m<module>\u001b[0;34m\u001b[0m\n\u001b[0;32m----> 1\u001b[0;31m \u001b[0msuma\u001b[0m \u001b[0;34m=\u001b[0m \u001b[0mno_taxes_rdd\u001b[0m\u001b[0;34m.\u001b[0m\u001b[0mreduce\u001b[0m\u001b[0;34m(\u001b[0m\u001b[0;32mlambda\u001b[0m \u001b[0ma\u001b[0m\u001b[0;34m,\u001b[0m\u001b[0mb\u001b[0m \u001b[0;34m:\u001b[0m \u001b[0;34m(\u001b[0m\u001b[0ma\u001b[0m\u001b[0;34m+\u001b[0m\u001b[0mb\u001b[0m\u001b[0;34m)\u001b[0m\u001b[0;34m)\u001b[0m\u001b[0;34m.\u001b[0m\u001b[0mcollect\u001b[0m\u001b[0;34m(\u001b[0m\u001b[0;34m)\u001b[0m\u001b[0;34m\u001b[0m\u001b[0;34m\u001b[0m\u001b[0m\n\u001b[0m\u001b[1;32m      2\u001b[0m \u001b[0mprint\u001b[0m\u001b[0;34m(\u001b[0m\u001b[0msuma\u001b[0m\u001b[0;34m)\u001b[0m\u001b[0;34m\u001b[0m\u001b[0;34m\u001b[0m\u001b[0m\n",
      "\u001b[0;32m/opt/anaconda3/lib/python3.8/site-packages/pyspark/sql/dataframe.py\u001b[0m in \u001b[0;36m__getattr__\u001b[0;34m(self, name)\u001b[0m\n\u001b[1;32m   1657\u001b[0m         \"\"\"\n\u001b[1;32m   1658\u001b[0m         \u001b[0;32mif\u001b[0m \u001b[0mname\u001b[0m \u001b[0;32mnot\u001b[0m \u001b[0;32min\u001b[0m \u001b[0mself\u001b[0m\u001b[0;34m.\u001b[0m\u001b[0mcolumns\u001b[0m\u001b[0;34m:\u001b[0m\u001b[0;34m\u001b[0m\u001b[0;34m\u001b[0m\u001b[0m\n\u001b[0;32m-> 1659\u001b[0;31m             raise AttributeError(\n\u001b[0m\u001b[1;32m   1660\u001b[0m                 \"'%s' object has no attribute '%s'\" % (self.__class__.__name__, name))\n\u001b[1;32m   1661\u001b[0m         \u001b[0mjc\u001b[0m \u001b[0;34m=\u001b[0m \u001b[0mself\u001b[0m\u001b[0;34m.\u001b[0m\u001b[0m_jdf\u001b[0m\u001b[0;34m.\u001b[0m\u001b[0mapply\u001b[0m\u001b[0;34m(\u001b[0m\u001b[0mname\u001b[0m\u001b[0;34m)\u001b[0m\u001b[0;34m\u001b[0m\u001b[0;34m\u001b[0m\u001b[0m\n",
      "\u001b[0;31mAttributeError\u001b[0m: 'DataFrame' object has no attribute 'reduce'"
     ]
    }
   ],
   "source": [
    "rdd=spark.sparkContext.parallelize(no_taxes_rdd)\n",
    "suma = no_taxes_rdd.reduce(lambda a,b : (a+b)).collect()\n",
    "print(suma)"
   ]
  },
  {
   "cell_type": "markdown",
   "metadata": {},
   "source": [
    "Lastly, we divide them and obtain the mean value. "
   ]
  },
  {
   "cell_type": "code",
   "execution_count": null,
   "metadata": {},
   "outputs": [],
   "source": [
    "print(suma/count)"
   ]
  },
  {
   "cell_type": "markdown",
   "metadata": {},
   "source": [
    "Of course, we can do the same thing for the 'mta_tax' value."
   ]
  },
  {
   "cell_type": "code",
   "execution_count": null,
   "metadata": {},
   "outputs": [],
   "source": [
    "taxes = spark_dataset.select(['mta_tax'])\n",
    "count2 = taxes.count()\n",
    "suma2 = taxes.reduce(lambda a,b : a+b)\n",
    "\n",
    "mean = suma2/count2\n",
    "print(mean)"
   ]
  },
  {
   "cell_type": "markdown",
   "metadata": {},
   "source": [
    "We have obtained a mean value for the taxes amount close to 0.5$, as it was expected. "
   ]
  },
  {
   "cell_type": "markdown",
   "metadata": {},
   "source": [
    "# 3 - Type of payment in terms of different pick up zones\n",
    "\n",
    "We are going to do the analysisis that we did before about the mean price of travels for the different pick-up zones and payment methods. The difference with the serial version that we have done in the other file is that for this case we will use some spark methods that allows parallel computation.\n",
    "\n",
    "First we select the data and group them by location and type of payment while calculating the mean price for each group. To do this we simply use the groupBy() function that allows groupping spark objects.\n"
   ]
  },
  {
   "cell_type": "code",
   "execution_count": null,
   "metadata": {},
   "outputs": [],
   "source": [
    "spark_dataset=spark_dataset.select(['DOLocationID','total_amount','payment_type'])\n",
    "spark_dataset_groupped=spark_dataset.groupBy('DOLocationID','payment_type').avg('total_amount')"
   ]
  },
  {
   "cell_type": "markdown",
   "metadata": {},
   "source": [
    "We want now to plot the information given in the analysis. However spark does not include any functions to compute plots in paralell so we will plot it using a DIY algorithm that uses matplotlib to do the plot."
   ]
  },
  {
   "cell_type": "code",
   "execution_count": null,
   "metadata": {},
   "outputs": [
    {
     "name": "stderr",
     "output_type": "stream",
     "text": [
      "No handles with labels found to put in legend.\n"
     ]
    },
    {
     "data": {
      "image/png": "[encoded data removed]",
      "text/plain": [
       "<Figure size 432x288 with 1 Axes>"
      ]
     },
     "metadata": {
      "needs_background": "light"
     },
     "output_type": "display_data"
    }
   ],
   "source": [
    "to_plot=spark_dataset_groupped.collect()\n",
    "for i in range(len(to_plot)):\n",
    "    if(to_plot[i][1]==1):\n",
    "        plt.plot(to_plot[i][0],to_plot[i][2],marker='o',color=\"blue\")\n",
    "    elif(to_plot[i][1]==2):\n",
    "        plt.plot(to_plot[i][0],to_plot[i][2],marker='o',color=\"orange\")\n",
    "    elif(to_plot[i][1]==3):\n",
    "        plt.plot(to_plot[i][0],to_plot[i][2],marker='o',color=\"green\")\n",
    "    else:\n",
    "        plt.plot(to_plot[i][0],to_plot[i][2],marker='o',color=\"red\")\n",
    "plt.legend()\n",
    "plt.show()"
   ]
  },
  {
   "cell_type": "markdown",
   "metadata": {},
   "source": [
    "Again, as what happened in the serial version, we can see there is at least one observation that we do not want to consider so we will delete it for this analysis. Then we will plot the object returned by spark."
   ]
  },
  {
   "cell_type": "code",
   "execution_count": null,
   "metadata": {},
   "outputs": [
    {
     "name": "stderr",
     "output_type": "stream",
     "text": [
      "No handles with labels found to put in legend.\n"
     ]
    },
    {
     "data": {
      "image/png": "[encoded data removed]",
      "text/plain": [
       "<Figure size 432x288 with 1 Axes>"
      ]
     },
     "metadata": {
      "needs_background": "light"
     },
     "output_type": "display_data"
    }
   ],
   "source": [
    "spark_cleaned=spark_dataset.where(spark_dataset.total_amount<=1000)\n",
    "spark_cleaned=spark_cleaned.where(spark_cleaned.total_amount>0)\n",
    "spark_dataset_cleaned_groupped=spark_cleaned.groupBy('DOLocationID','payment_type').avg('total_amount')\n",
    "to_plot_cleaned=spark_dataset_cleaned_groupped.collect()\n",
    "\n",
    "for i in range(len(to_plot_cleaned)):\n",
    "    if(to_plot_cleaned[i][1]==1):\n",
    "        plt.plot(to_plot_cleaned[i][0],to_plot_cleaned[i][2],marker='o',color=\"blue\")\n",
    "    elif(to_plot_cleaned[i][1]==2):\n",
    "        plt.plot(to_plot_cleaned[i][0],to_plot_cleaned[i][2],marker='o',color=\"orange\")\n",
    "    elif(to_plot_cleaned[i][1]==3):\n",
    "        plt.plot(to_plot_cleaned[i][0],to_plot_cleaned[i][2],marker='o',color=\"green\")\n",
    "    else:\n",
    "        plt.plot(to_plot_cleaned[i][0],to_plot_cleaned[i][2],marker='o',color=\"red\")\n",
    "plt.legend()\n",
    "plt.show()"
   ]
  },
  {
   "cell_type": "markdown",
   "metadata": {},
   "source": [
    "Finally we will also analyze the mean price paid in terms of each payment method and see its density plot. This time we will use the function groupByKey() that directly groups the data by a key and a value."
   ]
  },
  {
   "cell_type": "code",
   "execution_count": null,
   "metadata": {},
   "outputs": [
    {
     "data": {
      "text/plain": [
       "(0.0, 50.0)"
      ]
     },
     "execution_count": 44,
     "metadata": {},
     "output_type": "execute_result"
    },
    {
     "data": {
      "image/png": "[encoded data removed]",
      "text/plain": [
       "<Figure size 432x288 with 1 Axes>"
      ]
     },
     "metadata": {
      "needs_background": "light"
     },
     "output_type": "display_data"
    }
   ],
   "source": [
    "density_plot=spark_cleaned.select(['payment_type','total_amount'])\n",
    "density_groupped=density_plot.rdd\n",
    "density_spark=density_groupped.groupByKey().collect()\n",
    "\n",
    "for key, value in density_spark:\n",
    "    if(key==1):\n",
    "        x_1=list(value)\n",
    "    elif(key==2):\n",
    "        x_2=list(value)\n",
    "    elif(key==3):\n",
    "        x_3=list(value)\n",
    "    else:\n",
    "        x_4=list(value)\n",
    "\n",
    "sns.kdeplot(x_1)\n",
    "sns.kdeplot(x_2)\n",
    "sns.kdeplot(x_3)\n",
    "sns.kdeplot(x_4)\n",
    "plt.xlim(0,50)\n",
    "\n",
    "\n"
   ]
  },
  {
   "cell_type": "code",
   "execution_count": 56,
   "metadata": {},
   "outputs": [
    {
     "name": "stdout",
     "output_type": "stream",
     "text": [
      "144.2067608833313\n"
     ]
    }
   ],
   "source": [
    "spark.stop()\n",
    "stop=time.time()\n",
    "print(stop-start)"
   ]
  }
 ],
 "metadata": {
  "interpreter": {
   "hash": "40d3a090f54c6569ab1632332b64b2c03c39dcf918b08424e98f38b5ae0af88f"
  },
  "kernelspec": {
   "display_name": "Python 3.8.8 ('base')",
   "language": "python",
   "name": "python3"
  },
  "language_info": {
   "codemirror_mode": {
    "name": "ipython",
    "version": 3
   },
   "file_extension": ".py",
   "mimetype": "text/x-python",
   "name": "python",
   "nbconvert_exporter": "python",
   "pygments_lexer": "ipython3",
   "version": "3.8.8"
  },
  "orig_nbformat": 4
 },
 "nbformat": 4,
 "nbformat_minor": 2
}
