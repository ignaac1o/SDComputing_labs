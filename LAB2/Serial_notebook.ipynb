{
  "cells": [
    {
      "cell_type": "code",
      "execution_count": 4,
      "metadata": {
        "id": "pJUql4Qzre1m"
      },
      "outputs": [
        {
          "name": "stdout",
          "output_type": "stream",
          "text": [
            "#############################################################################\n",
            "Shape of both datasets joint\n",
            "(1942420, 17)\n",
            "#############################################################################\n",
            "Catgeories of the new variable\n",
            "['M' 'N' 'E' 'A']\n",
            "#############################################################################\n",
            "Relative frequencies\n",
            "E    631164\n",
            "A    566760\n",
            "M    473142\n",
            "N    271354\n",
            "Name: tpep_pickup_hour_timezone, dtype: int64\n",
            "2.219008445739746\n"
          ]
        },
        {
          "data": {
            "text/plain": [
              "Text(0.5, 0, 'Categories')"
            ]
          },
          "execution_count": 4,
          "metadata": {},
          "output_type": "execute_result"
        },
        {
          "data": {
            "image/png": "[encoded data removed]",
            "text/plain": [
              "<Figure size 1008x576 with 1 Axes>"
            ]
          },
          "metadata": {
            "needs_background": "light"
          },
          "output_type": "display_data"
        }
      ],
      "source": [
        "########################################### STUDY 1 ###################################################\n",
        "\n",
        "# Import libraries\n",
        "import pandas as pd\n",
        "import numpy as np\n",
        "import time\n",
        "import matplotlib as plt\n",
        "\n",
        "# Read both datasets and concatenate. \n",
        "\n",
        "data1 = pd.read_csv(\"tripdata_2017-01.csv\")\n",
        "data2 = pd.read_csv(\"tripdata_2017-02.csv\")\n",
        "data = pd.concat([data1,data2])\n",
        "\n",
        "print(\"#############################################################################\")\n",
        "print(\"Shape of both datasets joint\")\n",
        "print(data.shape)\n",
        "\n",
        "start = time.time()\n",
        "# Change the format of variable to datetime and extract the hour\n",
        "data['tpep_pickup_datetime'] = data['tpep_pickup_datetime'].astype('datetime64[ns]') \n",
        "data['tpep_pickup_hour'] = data.tpep_pickup_datetime.dt.hour\n",
        "\n",
        "\n",
        "# Convert the discrete variable to continuous variable\n",
        "col         = 'tpep_pickup_hour'\n",
        "conditions  = [ (data[col] >= 0) & (data[col] < 6), \n",
        "                (data[col]>= 6) & (data[col] < 12), \n",
        "               (data[col]>= 12) & (data[col] < 18),\n",
        "               (data[col]>= 18) & (data[col] <= 24) \n",
        "  ]\n",
        "choices     = [ 'N', 'M', 'A', 'E']\n",
        "    \n",
        "data[\"tpep_pickup_hour_timezone\"] = np.select(conditions, choices, default=np.nan)\n",
        "\n",
        "# Now there are only four categories which express the time zone\n",
        "\n",
        "print(\"#############################################################################\")\n",
        "print(\"Catgeories of the new variable\")\n",
        "print(data['tpep_pickup_hour_timezone'].unique())\n",
        "\n",
        "# Relative frequencies\n",
        "print(\"#############################################################################\")\n",
        "print(\"Relative frequencies\")\n",
        "print(data['tpep_pickup_hour_timezone'].value_counts())\n",
        "end = time.time()\n",
        "print(end-start)\n",
        "\n",
        "# Barlot of the new variable created\n",
        "plot = data['tpep_pickup_hour_timezone'].value_counts().plot(kind='bar',\n",
        "                                    figsize=(14,8),\n",
        "                                    title=\"Barplot of 'tpep_pickup_hour_timezone'\")\n",
        "\n",
        "plot.set_ylabel('Frequencies')\n",
        "plot.set_xlabel('Categories')"
      ]
    },
    {
      "cell_type": "code",
      "execution_count": null,
      "metadata": {},
      "outputs": [],
      "source": []
    }
  ],
  "metadata": {
    "colab": {
      "name": "Serial_notebook.ipynb",
      "provenance": []
    },
    "kernelspec": {
      "display_name": "Python 3",
      "name": "python3"
    },
    "language_info": {
      "codemirror_mode": {
        "name": "ipython",
        "version": 3
      },
      "file_extension": ".py",
      "mimetype": "text/x-python",
      "name": "python",
      "nbconvert_exporter": "python",
      "pygments_lexer": "ipython3",
      "version": "3.10.2"
    }
  },
  "nbformat": 4,
  "nbformat_minor": 0
}
